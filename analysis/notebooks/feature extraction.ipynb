{
 "cells": [
  {
   "cell_type": "code",
   "execution_count": 1,
   "metadata": {},
   "outputs": [
    {
     "data": {
      "text/plain": [
       "'/home/nick/programming/music-similarity/analysis'"
      ]
     },
     "execution_count": 1,
     "metadata": {},
     "output_type": "execute_result"
    }
   ],
   "source": [
    "import os\n",
    "# move to analysis folder\n",
    "os.chdir('..')\n",
    "os.getcwd()"
   ]
  },
  {
   "cell_type": "code",
   "execution_count": 2,
   "metadata": {},
   "outputs": [
    {
     "name": "stderr",
     "output_type": "stream",
     "text": [
      "/home/nick/programming/music-similarity/analysis/processing.py:46: RuntimeWarning: divide by zero encountered in log10\n",
      "  return dct(np.log10(filterbanks), axis=0)[1:n_ceps + 1]\n"
     ]
    }
   ],
   "source": [
    "import processing\n",
    "import numpy as np\n",
    "\n",
    "mfcc1 = processing.convert_to_mfcc('data/songs/Dragon Ball.wav').T\n",
    "mfcc2 = processing.convert_to_mfcc('data/songs/Akagami no Shirayuki-hime.wav').T"
   ]
  },
  {
   "cell_type": "code",
   "execution_count": 3,
   "metadata": {},
   "outputs": [
    {
     "data": {
      "text/plain": [
       "'10886 samples of feature size 12'"
      ]
     },
     "execution_count": 3,
     "metadata": {},
     "output_type": "execute_result"
    }
   ],
   "source": [
    "f'{mfcc1.shape[0]} samples of feature size {mfcc1.shape[1]}'"
   ]
  },
  {
   "cell_type": "markdown",
   "metadata": {},
   "source": [
    "Do some preprocessing of raw mfcc"
   ]
  },
  {
   "cell_type": "code",
   "execution_count": 4,
   "metadata": {},
   "outputs": [],
   "source": [
    "# number of frames to use\n",
    "frames = 500\n",
    "mfcc1 = np.nan_to_num(mfcc1.real)[:frames]"
   ]
  },
  {
   "cell_type": "code",
   "execution_count": 5,
   "metadata": {},
   "outputs": [
    {
     "data": {
      "text/plain": [
       "GaussianMixture(covariance_type='full', init_params='kmeans', max_iter=100,\n",
       "        means_init=None, n_components=20, n_init=1, precisions_init=None,\n",
       "        random_state=None, reg_covar=1e-06, tol=0.001, verbose=0,\n",
       "        verbose_interval=10, warm_start=False, weights_init=None)"
      ]
     },
     "execution_count": 5,
     "metadata": {},
     "output_type": "execute_result"
    }
   ],
   "source": [
    "from sklearn import mixture\n",
    "\n",
    "# this can be tweaked a bit\n",
    "components = 20\n",
    "gmix = mixture.GaussianMixture(n_components=components, covariance_type='full')\n",
    "gmix.fit(mfcc1)"
   ]
  },
  {
   "cell_type": "code",
   "execution_count": 6,
   "metadata": {},
   "outputs": [
    {
     "data": {
      "text/plain": [
       "(array([[-4.81123777,  0.17433119,  0.48404028,  0.06410046, -0.22203091,\n",
       "          1.15480811,  2.07133311,  2.77829129,  2.1490024 ,  1.20838218,\n",
       "          0.5491013 , -0.55925679]]), array([11]))"
      ]
     },
     "execution_count": 6,
     "metadata": {},
     "output_type": "execute_result"
    }
   ],
   "source": [
    "gmix.sample(1)"
   ]
  },
  {
   "cell_type": "code",
   "execution_count": 7,
   "metadata": {},
   "outputs": [
    {
     "name": "stdout",
     "output_type": "stream",
     "text": [
      "(20,)\n",
      "(20, 12)\n",
      "(20, 12, 12)\n"
     ]
    }
   ],
   "source": [
    "print(gmix.weights_.shape)\n",
    "print(gmix.means_.shape)\n",
    "print(gmix.covariances_.shape)"
   ]
  },
  {
   "cell_type": "markdown",
   "metadata": {},
   "source": [
    "### Pipeline\n",
    "song -> mfcc -> gmm -> feature vector of weights+means+covariances\n",
    "feature vector is of 20 + 20 * 12 + 20 * 12 * 12 length"
   ]
  }
 ],
 "metadata": {
  "kernelspec": {
   "display_name": "Python 3",
   "language": "python",
   "name": "python3"
  },
  "language_info": {
   "codemirror_mode": {
    "name": "ipython",
    "version": 3
   },
   "file_extension": ".py",
   "mimetype": "text/x-python",
   "name": "python",
   "nbconvert_exporter": "python",
   "pygments_lexer": "ipython3",
   "version": "3.7.2"
  }
 },
 "nbformat": 4,
 "nbformat_minor": 1
}
