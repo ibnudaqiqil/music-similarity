{
 "cells": [
  {
   "cell_type": "markdown",
   "metadata": {
    "pycharm": {}
   },
   "source": [
    "### Read in the myanimelist data as a pandas dataframe"
   ]
  },
  {
   "cell_type": "code",
   "execution_count": 2,
   "metadata": {
    "pycharm": {
     "is_executing": false,
     "name": "#%%\n"
    }
   },
   "outputs": [
    {
     "data": {
      "text/html": [
       "<div>\n",
       "<style scoped>\n",
       "    .dataframe tbody tr th:only-of-type {\n",
       "        vertical-align: middle;\n",
       "    }\n",
       "\n",
       "    .dataframe tbody tr th {\n",
       "        vertical-align: top;\n",
       "    }\n",
       "\n",
       "    .dataframe thead th {\n",
       "        text-align: right;\n",
       "    }\n",
       "</style>\n",
       "<table border=\"1\" class=\"dataframe\">\n",
       "  <thead>\n",
       "    <tr style=\"text-align: right;\">\n",
       "      <th></th>\n",
       "      <th>title</th>\n",
       "      <th>title_english</th>\n",
       "      <th>genre</th>\n",
       "      <th>opening_theme</th>\n",
       "      <th>ending_theme</th>\n",
       "    </tr>\n",
       "  </thead>\n",
       "  <tbody>\n",
       "    <tr>\n",
       "      <th>0</th>\n",
       "      <td>Inu x Boku SS</td>\n",
       "      <td>Inu X Boku Secret Service</td>\n",
       "      <td>Comedy, Supernatural, Romance, Shounen</td>\n",
       "      <td>['\"Nirvana\" by MUCC']</td>\n",
       "      <td>['#1: \"Nirvana\" by MUCC (eps 1, 11-12)', '#2: ...</td>\n",
       "    </tr>\n",
       "    <tr>\n",
       "      <th>1</th>\n",
       "      <td>Seto no Hanayome</td>\n",
       "      <td>My Bride is a Mermaid</td>\n",
       "      <td>Comedy, Parody, Romance, School, Shounen</td>\n",
       "      <td>['\"Romantic summer\" by SUN&amp;LUNAR']</td>\n",
       "      <td>['#1: \"Ashita e no Hikari (明日への光)\" by Asuka Hi...</td>\n",
       "    </tr>\n",
       "    <tr>\n",
       "      <th>2</th>\n",
       "      <td>Shugo Chara!! Doki</td>\n",
       "      <td>Shugo Chara!! Doki</td>\n",
       "      <td>Comedy, Magic, School, Shoujo</td>\n",
       "      <td>['#1: \"Minna no Tamago (みんなのたまご)\" by Shugo Cha...</td>\n",
       "      <td>['#1: \"Rottara Rottara (ロッタラ ロッタラ)\" by Buono! ...</td>\n",
       "    </tr>\n",
       "    <tr>\n",
       "      <th>3</th>\n",
       "      <td>Princess Tutu</td>\n",
       "      <td>Princess Tutu</td>\n",
       "      <td>Comedy, Drama, Magic, Romance, Fantasy</td>\n",
       "      <td>['\"Morning Grace\" by Ritsuko Okazaki']</td>\n",
       "      <td>['\"Watashi No Ai Wa Chiisaikeredo\" by Ritsuko ...</td>\n",
       "    </tr>\n",
       "    <tr>\n",
       "      <th>4</th>\n",
       "      <td>Bakuman. 3rd Season</td>\n",
       "      <td>Bakuman.</td>\n",
       "      <td>Comedy, Drama, Romance, Shounen</td>\n",
       "      <td>['#1: \"Moshimo no Hanashi (もしもの話)\" by nano.RIP...</td>\n",
       "      <td>['#1: \"Pride on Everyday\" by Sphere (eps 1-13)...</td>\n",
       "    </tr>\n",
       "  </tbody>\n",
       "</table>\n",
       "</div>"
      ],
      "text/plain": [
       "                 title              title_english  \\\n",
       "0        Inu x Boku SS  Inu X Boku Secret Service   \n",
       "1     Seto no Hanayome      My Bride is a Mermaid   \n",
       "2   Shugo Chara!! Doki         Shugo Chara!! Doki   \n",
       "3        Princess Tutu              Princess Tutu   \n",
       "4  Bakuman. 3rd Season                   Bakuman.   \n",
       "\n",
       "                                      genre  \\\n",
       "0    Comedy, Supernatural, Romance, Shounen   \n",
       "1  Comedy, Parody, Romance, School, Shounen   \n",
       "2             Comedy, Magic, School, Shoujo   \n",
       "3    Comedy, Drama, Magic, Romance, Fantasy   \n",
       "4           Comedy, Drama, Romance, Shounen   \n",
       "\n",
       "                                       opening_theme  \\\n",
       "0                              ['\"Nirvana\" by MUCC']   \n",
       "1                 ['\"Romantic summer\" by SUN&LUNAR']   \n",
       "2  ['#1: \"Minna no Tamago (みんなのたまご)\" by Shugo Cha...   \n",
       "3             ['\"Morning Grace\" by Ritsuko Okazaki']   \n",
       "4  ['#1: \"Moshimo no Hanashi (もしもの話)\" by nano.RIP...   \n",
       "\n",
       "                                        ending_theme  \n",
       "0  ['#1: \"Nirvana\" by MUCC (eps 1, 11-12)', '#2: ...  \n",
       "1  ['#1: \"Ashita e no Hikari (明日への光)\" by Asuka Hi...  \n",
       "2  ['#1: \"Rottara Rottara (ロッタラ ロッタラ)\" by Buono! ...  \n",
       "3  ['\"Watashi No Ai Wa Chiisaikeredo\" by Ritsuko ...  \n",
       "4  ['#1: \"Pride on Everyday\" by Sphere (eps 1-13)...  "
      ]
     },
     "execution_count": 2,
     "metadata": {},
     "output_type": "execute_result"
    }
   ],
   "source": [
    "import pandas as pd\n",
    "\n",
    "columns = ['title', 'title_english', 'genre', 'opening_theme', 'ending_theme']\n",
    "\n",
    "df = pd.read_csv('../data/AnimeList.csv', usecols=columns)\n",
    "df.head()"
   ]
  },
  {
   "cell_type": "markdown",
   "metadata": {
    "pycharm": {}
   },
   "source": [
    "### Read in the pickled reddit/r/animethemes wiki page"
   ]
  },
  {
   "cell_type": "code",
   "execution_count": 46,
   "metadata": {
    "pycharm": {}
   },
   "outputs": [],
   "source": [
    "import pickle \n",
    "import bs4\n",
    "\n",
    "with open('../data/animethemes_wiki.pickle', 'rb') as f:\n",
    "    wiki_raw = pickle.load(f)\n",
    "    soup = bs4.BeautifulSoup(wiki_raw, 'html.parser')"
   ]
  },
  {
   "cell_type": "code",
   "execution_count": 20,
   "metadata": {
    "pycharm": {}
   },
   "outputs": [
    {
     "name": "stdout",
     "output_type": "stream",
     "text": [
      "name: .hack//Liminality (2002)\n",
      "link: /r/AnimeThemes/wiki/2002#wiki_.hack.2F.2Fliminality\n"
     ]
    }
   ],
   "source": [
    "wiki = soup.find(class_='md wiki')\n",
    "links = wiki.find_all('p')\n",
    "\n",
    "\n",
    "example_song = links[1].a\n",
    "link = example_song.get('href')\n",
    "\n",
    "print('name:', example_song.contents[0])\n",
    "print('link:', link)"
   ]
  },
  {
   "cell_type": "code",
   "execution_count": 2,
   "metadata": {
    "pycharm": {
     "is_executing": false
    }
   },
   "outputs": [],
   "source": [
    "import json\n",
    "import praw\n",
    "\n",
    "user_agent = 'AnimeThemes wiki scraper (by /u/nickyu42)'\n",
    "\n",
    "with open('../data/credentials.json', 'r') as f:\n",
    "    credentials = json.load(f)['praw']\n",
    "    \n",
    "reddit = praw.Reddit(client_id=credentials['client_id'], \n",
    "                     client_secret=credentials['client_secret'],\n",
    "                     user_agent=user_agent)\n",
    "\n",
    "wiki_page = reddit.subreddit('AnimeThemes').wiki"
   ]
  },
  {
   "cell_type": "code",
   "execution_count": 18,
   "metadata": {},
   "outputs": [
    {
     "data": {
      "text/plain": [
       "[<h3 id=\"wiki_duel_masters\"><a href=\"https://myanimelist.net/anime/1685/\" rel=\"nofollow\">Duel Masters</a></h3>,\n",
       " <table><thead>\n",
       " <tr>\n",
       " <th>Theme title</th>\n",
       " <th align=\"center\">Links</th>\n",
       " <th align=\"center\">Episodes</th>\n",
       " <th align=\"center\">Notes</th>\n",
       " </tr>\n",
       " </thead><tbody>\n",
       " <tr>\n",
       " <td>OP \"\"</td>\n",
       " <td align=\"center\"><a href=\"https://animethemes.moe/video/DuelMastersDub-OP1.webm\" rel=\"nofollow\">Webm</a></td>\n",
       " <td align=\"center\"></td>\n",
       " <td align=\"center\"></td>\n",
       " </tr>\n",
       " </tbody></table>]"
      ]
     },
     "execution_count": 18,
     "metadata": {},
     "output_type": "execute_result"
    }
   ],
   "source": [
    "soup1 = bs4.BeautifulSoup(wiki_page['2002'].content_html)\n",
    "wiki1 = soup1.find(class_='md wiki')\n",
    "\n",
    "# only use 20 in the table for test\n",
    "links = wiki1.find_all(['h3', 'table'])[:20]\n",
    "\n",
    "links[:2]"
   ]
  },
  {
   "cell_type": "code",
   "execution_count": 57,
   "metadata": {},
   "outputs": [
    {
     "name": "stdout",
     "output_type": "stream",
     "text": [
      "Duel Masters\n",
      "- OP \"\" :: https://animethemes.moe/video/DuelMastersDub-OP1.webm\n",
      "GetBackers\n",
      "- OP1 \"Yuragu Koto Nai Ai\" :: https://animethemes.moe/video/GetBackers-OP1.webm\n",
      "- OP2 V1 \"Barairo no Sekai\" :: https://animethemes.moe/video/GetBackers-OP2.webm\n",
      "- OP2 V2 \"Barairo no Sekai\" :: https://animethemes.moe/video/GetBackers-OP2v2.webm\n",
      "- ED1 \"Ichibyo No Refrain\" :: https://animethemes.moe/video/GetBackers-ED1.webm\n",
      "- ED2 \"Namida no Hurricane\" :: https://animethemes.moe/video/GetBackers-ED2.webm\n",
      "- ED3 \"Mr. Déjà vu\" :: https://animethemes.moe/video/GetBackers-ED3.webm\n",
      "- ED4 \"Changin'\" :: https://animethemes.moe/video/GetBackers-ED4.webm\n",
      "Ghost in the Shell: Stand Alone Complex\n",
      "- OP \"Inner Universe\" :: https://animethemes.moe/video/GhostInTheShellSAC-OP1.webm\n",
      "- ED \"Lithium Flower\" :: https://animethemes.moe/video/GhostInTheShellSAC-ED1.webm\n",
      "- OP \"GET9\" :: https://animethemes.moe/video/GhostInTheShellSAC-OP2.webm\n",
      "Green Green OVA\n",
      "- OP \"Green Green\" :: https://animethemes.moe/video/GreenGreenOVA-OP1.webm\n",
      "- ED \"Green Green\" :: https://animethemes.moe/video/GreenGreenOVA-ED1.webm\n",
      "Haibane Renmei\n",
      "- OP \"Free Bird\" :: https://animethemes.moe/video/HaibaneRenmei-OP1.webm\n",
      "- ED \"Blue Flow\" :: https://animethemes.moe/video/HaibaneRenmei-ED1.webm\n",
      "Hanada Shounen-shi\n",
      "- OP \"The One\" :: https://animethemes.moe/video/HanadaShounenShi-OP1.webm\n",
      "- ED \"Drowning\" :: https://animethemes.moe/video/HanadaShounenShi-ED1.webm\n",
      "Hungry Heart: Wild Striker\n",
      "- OP1 \"2nd Stage\" :: https://animethemes.moe/video/HungryHeart-OP1.webm\n",
      "- OP2 \"Kiseki no Tsubasa\" :: https://animethemes.moe/video/HungryHeart-OP2.webm\n",
      "Macross Zero\n",
      "- ED1 \"ARKAN\" :: https://animethemes.moe/video/MacrossZero-ED1.webm\n",
      "- ED2 \"Life Song\" :: https://animethemes.moe/video/MacrossZero-ED2.webm\n",
      "- ED3 \"yanyan\" :: https://animethemes.moe/video/MacrossZero-ED3.webm\n",
      "- ED4 \"Forest Song\" :: https://animethemes.moe/video/MacrossZero-ED4.webm\n",
      "Mahoromatic 2\n",
      "- OP \"Soreiyu - Soleil\" :: https://animethemes.moe/video/Mahoromatic2-OP1.webm\n",
      "- ED \"Triomatic Ran!Ran!\" :: https://animethemes.moe/video/Mahoromatic2-ED1.webm\n",
      "Mobile Suit Gundam SEED\n",
      "\n"
     ]
    }
   ],
   "source": [
    "def is_link(a):\n",
    "    return isinstance(a, bs4.element.Tag) and a.has_attr('href')\n",
    "\n",
    "\n",
    "def parse_row(row):\n",
    "    cols = row.find_all(True)\n",
    "    \n",
    "    if is_link(cols[1].contents[0]):\n",
    "        # name, link\n",
    "        return cols[0].string, cols[1].a.get('href')\n",
    "    \n",
    "    return cols[0].string, None\n",
    "        \n",
    "\n",
    "song_table = {}\n",
    "current_anime = ''\n",
    "\n",
    "for l in links:\n",
    "    if l.name == 'h3':\n",
    "        current_anime = l.string\n",
    "        \n",
    "        # WARNING: duplicate detection is not done\n",
    "        # another anime with the same name may break links\n",
    "        song_table[current_anime] = []\n",
    "        \n",
    "    else:\n",
    "        for row in l.tbody.find_all('tr'):\n",
    "            name, link = parse_row(row)\n",
    "            \n",
    "            if link is not None:\n",
    "                song_table[current_anime].append((name, link))\n",
    "\n",
    "for name, songs in song_table.items():\n",
    "    print(name)\n",
    "    print('\\n'.join(f'- {song} :: {link}' for song, link in songs))"
   ]
  }
 ],
 "metadata": {
  "kernelspec": {
   "display_name": "Python 3",
   "language": "python",
   "name": "python3"
  },
  "language_info": {
   "codemirror_mode": {
    "name": "ipython",
    "version": 3
   },
   "file_extension": ".py",
   "mimetype": "text/x-python",
   "name": "python",
   "nbconvert_exporter": "python",
   "pygments_lexer": "ipython3",
   "version": "3.7.2"
  }
 },
 "nbformat": 4,
 "nbformat_minor": 1
}
