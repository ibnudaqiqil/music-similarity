{
  "cells": [
    {
      "cell_type": "code",
      "execution_count": 2,
      "outputs": [],
      "source": "import matplotlib.pyplot as plt\nimport numpy as np\nimport scipy.io.wavfile\nfrom scipy.fftpack import dct\n",
      "metadata": {
        "pycharm": {
          "metadata": false,
          "name": "#%%\n",
          "is_executing": false
        }
      }
    },
    {
      "cell_type": "code",
      "execution_count": 3,
      "metadata": {
        "collapsed": true,
        "pycharm": {
          "is_executing": false
        }
      },
      "outputs": [],
      "source": "\nAUDIO_FILE \u003d \u0027data/crossing field.wav\u0027\nsample_rate, signal \u003d scipy.io.wavfile.read(AUDIO_FILE)\n\n# convert to mono audio\nsignal \u003d (signal[:, 0] + signal[:, 1]) / 2.0\n\n# take first 3s\nsignal \u003d signal[:int(3*sample_rate)]\n"
    },
    {
      "cell_type": "code",
      "execution_count": null,
      "outputs": [],
      "source": "",
      "metadata": {
        "pycharm": {
          "metadata": false,
          "name": "#%%\n"
        }
      }
    }
  ],
  "metadata": {
    "language_info": {
      "codemirror_mode": {
        "name": "ipython",
        "version": 2
      },
      "file_extension": ".py",
      "mimetype": "text/x-python",
      "name": "python",
      "nbconvert_exporter": "python",
      "pygments_lexer": "ipython2",
      "version": "2.7.6"
    },
    "kernelspec": {
      "name": "pycharm-739a8ec",
      "language": "python",
      "display_name": "PyCharm (music-similarity)"
    },
    "stem_cell": {
      "cell_type": "raw",
      "source": "",
      "metadata": {
        "pycharm": {
          "metadata": false
        }
      }
    }
  },
  "nbformat": 4,
  "nbformat_minor": 0
}